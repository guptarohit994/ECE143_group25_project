{
 "cells": [
  {
   "cell_type": "code",
   "execution_count": 93,
   "metadata": {},
   "outputs": [],
   "source": [
    "##Data cleaning and combination\n",
    "import pandas as pd\n",
    "\n",
    "df = pd.read_csv('ucop_sd_all.csv')"
   ]
  },
  {
   "cell_type": "code",
   "execution_count": 103,
   "metadata": {},
   "outputs": [
    {
     "data": {
      "text/plain": [
       "'BRASWELLGEOFFREYE'"
      ]
     },
     "execution_count": 103,
     "metadata": {},
     "output_type": "execute_result"
    }
   ],
   "source": [
    "\n",
    "#Clean Data\n",
    "df = df.dropna()\n",
    "df = df[df.FirstName != '*****']\n",
    "#Add full name and delete first name and last name\n",
    "first = df.FirstName\n",
    "last = df.LastName\n",
    "name = last + ',' + first\n",
    "fullName = [\"\".join(list(filter(str.isalnum, line))) for line in name]\n",
    "\n",
    "df['fullName'] = fullName\n",
    "# del df['FirstName']\n",
    "# del df['LastName']\n"
   ]
  },
  {
   "cell_type": "code",
   "execution_count": 128,
   "metadata": {},
   "outputs": [],
   "source": [
    "def mergeDataset(data1,set2,filename): \n",
    "    data2 = pd.read_csv(set2)\n",
    "    data2 = data2.dropna()\n",
    "    name = data2.Instructor\n",
    "    fullName = [\"\".join(list(filter(str.isalnum, line))) for line in name]\n",
    "    fullName = [x.upper() for x in fullName]\n",
    "    data2['fullName'] = fullName\n",
    "    merged_inner = pd.merge(left=data1,right=data2, left_on='fullName', right_on='fullName')\n",
    "    merged_inner.to_csv(filename, index = None, header=True)\n"
   ]
  },
  {
   "cell_type": "code",
   "execution_count": 138,
   "metadata": {},
   "outputs": [],
   "source": [
    "mergeDataset(df,'cape_VIS_auto.csv','D:\\ECE143\\ECE143_group25_project-master\\data\\Merged_VIS.csv')\n",
    "\n",
    "mergeDataset(df,'cape_WARR_auto.csv','D:\\ECE143\\ECE143_group25_project-master\\data\\Merged_WARR.csv')\n",
    "mergeDataset(df,'cape_WCWP_auto.csv','D:\\ECE143\\ECE143_group25_project-master\\data\\Merged_WCWP.csv')"
   ]
  },
  {
   "cell_type": "code",
   "execution_count": null,
   "metadata": {},
   "outputs": [],
   "source": []
  }
 ],
 "metadata": {
  "kernelspec": {
   "display_name": "Python 3",
   "language": "python",
   "name": "python3"
  },
  "language_info": {
   "codemirror_mode": {
    "name": "ipython",
    "version": 3
   },
   "file_extension": ".py",
   "mimetype": "text/x-python",
   "name": "python",
   "nbconvert_exporter": "python",
   "pygments_lexer": "ipython3",
   "version": "3.7.0"
  }
 },
 "nbformat": 4,
 "nbformat_minor": 2
}
