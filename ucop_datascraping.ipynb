{
 "cells": [
  {
   "cell_type": "code",
   "execution_count": null,
   "metadata": {},
   "outputs": [],
   "source": [
    "from bs4 import BeautifulSoup\n",
    "import csv"
   ]
  },
  {
   "cell_type": "code",
   "execution_count": 3,
   "metadata": {},
   "outputs": [],
   "source": [
    "# urlpage = 'file://./data/ucop_sd_all.html' \n",
    "# print(urlpage)\n",
    "# # query the website and return the html to the variable 'page'\n",
    "# page = urllib.request.urlopen(urlpage)\n",
    "# parse the html using beautiful soup and store in variable 'soup'\n",
    "soup = BeautifulSoup(open('./data/ucop_sd_all.html', 'r'), 'html.parser')"
   ]
  },
  {
   "cell_type": "code",
   "execution_count": 4,
   "metadata": {},
   "outputs": [],
   "source": [
    "table = soup.find_all(id='list2')"
   ]
  },
  {
   "cell_type": "code",
   "execution_count": 5,
   "metadata": {},
   "outputs": [],
   "source": [
    "# TODO automatically get the table header?\n",
    "# soup.find_all(role='columnheader')[9].find_all(class_='ui-jqgrid-sortable')[0]"
   ]
  },
  {
   "cell_type": "code",
   "execution_count": 6,
   "metadata": {},
   "outputs": [
    {
     "data": {
      "text/plain": [
       "45207"
      ]
     },
     "execution_count": 6,
     "metadata": {},
     "output_type": "execute_result"
    }
   ],
   "source": [
    "rows = table[0].find_all(role='row')\n",
    "assert len(rows) == 45207"
   ]
  },
  {
   "cell_type": "code",
   "execution_count": 7,
   "metadata": {},
   "outputs": [],
   "source": [
    "# TODO skip if file already exists\n",
    "f = csv.writer(open('./data/ucop_sd_all.csv', 'w'))\n",
    "\n",
    "f.writerow(['SNo','Year','Location','FirstName','LastName','Title',\n",
    "            'GrossPay','RegularPay','OvertimePay','OtherPay'])\n",
    "\n",
    "\n",
    "for row in rows:\n",
    "    data_per_row = [field.get('title') for field in row if field.get('title') is not None]\n",
    "    assert len(data_per_row)==10, \"data_per_row does not have 10 rows\"\n",
    "\n",
    "#     #setup correct datatypes for fields\n",
    "#     #0 = S No\n",
    "#     data_per_row[0] = int(data_per_row[0])\n",
    "#     #1 = Year\n",
    "#     data_per_row[1] = int(data_per_row[1])\n",
    "#     #6 = gross pay\n",
    "#     data_per_row[6] = float(data_per_row[6].replace(',',''))\n",
    "#     #7 = regular pay\n",
    "#     data_per_row[7] = float(data_per_row[7].replace(',',''))\n",
    "#     #8 = overtime pay\n",
    "#     data_per_row[8] = float(data_per_row[8].replace(',',''))\n",
    "#     #9 = other pay\n",
    "#     data_per_row[9] = float(data_per_row[9].replace(',',''))\n",
    "    f.writerow(data_per_row)\n"
   ]
  }
 ],
 "metadata": {
  "kernelspec": {
   "display_name": "Python 3",
   "language": "python",
   "name": "python3"
  },
  "language_info": {
   "codemirror_mode": {
    "name": "ipython",
    "version": 3
   },
   "file_extension": ".py",
   "mimetype": "text/x-python",
   "name": "python",
   "nbconvert_exporter": "python",
   "pygments_lexer": "ipython3",
   "version": "3.7.3"
  }
 },
 "nbformat": 4,
 "nbformat_minor": 2
}
