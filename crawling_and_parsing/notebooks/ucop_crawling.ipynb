{
 "cells": [
  {
   "cell_type": "code",
   "execution_count": 1,
   "metadata": {},
   "outputs": [],
   "source": [
    "from selenium import webdriver\n",
    "from selenium.webdriver.firefox.options import Options\n",
    "from selenium.webdriver.support.ui import Select\n",
    "from selenium.webdriver.support.ui import WebDriverWait\n",
    "from ucop_webpage_parser import get_parsed_rows_ucop\n",
    "import csv"
   ]
  },
  {
   "cell_type": "code",
   "execution_count": 2,
   "metadata": {},
   "outputs": [],
   "source": [
    "f = open('./cape_ece_auto.csv', 'w')\n",
    "writer = csv.writer(f)"
   ]
  },
  {
   "cell_type": "code",
   "execution_count": 3,
   "metadata": {},
   "outputs": [
    {
     "name": "stdout",
     "output_type": "stream",
     "text": [
      "Headless Firefox Initialized\n"
     ]
    }
   ],
   "source": [
    "options = Options()\n",
    "options.headless = True\n",
    "driver = webdriver.Firefox(options=options, executable_path=r'./geckodriver')\n",
    "driver.get(\"https://ucannualwage.ucop.edu/wage/\")\n",
    "print (\"Headless Firefox Initialized\")"
   ]
  },
  {
   "cell_type": "code",
   "execution_count": 4,
   "metadata": {},
   "outputs": [
    {
     "name": "stdout",
     "output_type": "stream",
     "text": [
      "Need to go through 753 more pages!\n",
      "Need to go through 752 more pages!\n"
     ]
    }
   ],
   "source": [
    "total_num_pages = 1\n",
    "pages_left = 1\n",
    "first_time = True\n",
    "\n",
    "while (pages_left > 0):\n",
    "    \n",
    "    if (first_time):\n",
    "        # write header\n",
    "        writer.writerow(['SNo','Year','Location','FirstName','LastName','Title',\n",
    "                         'GrossPay','RegularPay','OvertimePay','OtherPay'])\n",
    "        \n",
    "        # select San Diego as Location\n",
    "        select = Select(driver.find_element_by_id('wrapper').\\\n",
    "                        find_element_by_id('content').\\\n",
    "                        find_element_by_id('sform').\\\n",
    "                        find_element_by_id('location'))\n",
    "        # print(select.options)\n",
    "        # print([o.text for o in select.options]) # these are string-s\n",
    "        select.select_by_visible_text('San Diego')\n",
    "\n",
    "        # select 60 results to be viewed per page\n",
    "        select_60 = Select(driver.\\\n",
    "                           find_element_by_id('wrapper').\\\n",
    "                           find_element_by_id('content').\n",
    "                           find_element_by_id('gbox_list2').\\\n",
    "                           find_element_by_id('pager2').\\\n",
    "                           find_element_by_class_name('ui-pg-table').\\\n",
    "                           find_element_by_class_name('ui-pg-selbox')\n",
    "                          )\n",
    "        select_60.select_by_visible_text('60')\n",
    "\n",
    "        # click on search\n",
    "        driver.find_element_by_id('wrapper').\\\n",
    "               find_element_by_id('content').\\\n",
    "               find_element_by_id('sform').\\\n",
    "               find_element_by_id('searchButton').\\\n",
    "               click()\n",
    "            \n",
    "#         # wait for click to complete, else time out\n",
    "#         WebDriverWait(driver, 60, poll_frequency=60).until(lambda x: x.find_element_by_id('wrapper').\n",
    "#                                                                        find_element_by_id('content').\n",
    "#                                                                        find_element_by_id('load_list2').\\\n",
    "#                                                                        is_displayed()\n",
    "#                                                           )\n",
    "\n",
    "        while (driver.find_element_by_id('wrapper').\n",
    "                       find_element_by_id('content').\n",
    "                       find_element_by_id('load_list2').\\\n",
    "                       is_displayed()\n",
    "              ):\n",
    "            pass\n",
    "        \n",
    "        # get how many paged result has appeared\n",
    "        total_num_pages = int(driver.\n",
    "                              find_element_by_id('wrapper').\\\n",
    "                              find_element_by_id('content').\\\n",
    "                              find_element_by_id('pg_pager2').\\\n",
    "                              find_element_by_id('sp_1').\\\n",
    "                              text\n",
    "                             )\n",
    "        \n",
    "        if (total_num_pages >= 1):\n",
    "            # have already parsed this page\n",
    "            pages_left = total_num_pages - 1\n",
    "            print(f\"Need to go through {pages_left} more pages!\")\n",
    "            \n",
    "            # strict = false since results may be less than 60 on 1st page\n",
    "            try:\n",
    "                rows = get_parsed_rows_ucop(driver.page_source, strict=False)\n",
    "                for row in rows:\n",
    "                    writer.writerow(row)\n",
    "            except AssertionError as e:\n",
    "                print(f\"caught exception {e} in get_parsed_rows_ucop!\")\n",
    "                #no need to write row in this case\n",
    "        else:\n",
    "            assert False, \"Search yielded no result or wait for results to load expired. Maybe exit?\"\n",
    "        \n",
    "        #set first time as false\n",
    "        first_time = False\n",
    "    else:\n",
    "        #click on next\n",
    "        driver.find_element_by_id('wrapper').\\\n",
    "               find_element_by_id('content').\\\n",
    "               find_element_by_id('pg_pager2').find_element_by_id('next').click()\n",
    "        \n",
    "        while (driver.find_element_by_id('wrapper').\n",
    "                       find_element_by_id('content').\n",
    "                       find_element_by_id('load_list2').\\\n",
    "                       is_displayed()\n",
    "              ):\n",
    "            pass\n",
    "        \n",
    "        assert total_num_pages == int(driver.find_element_by_id('wrapper').\\\n",
    "                                      find_element_by_id('content').\\\n",
    "                                      find_element_by_id('pg_pager2').\\\n",
    "                                      find_element_by_id('sp_1').\\\n",
    "                                      text\n",
    "                                     ), \"Something went wrong! total_num_pages has changed now.\"\n",
    "        pages_left -= 1\n",
    "        print(f\"Need to go through {pages_left} more pages!\")\n",
    "        try:\n",
    "            if (pages_left == 0):\n",
    "                # last page, results may be less than 60 => strict = False\n",
    "                rows = get_parsed_rows_ucop(driver.page_source, strict=False)\n",
    "            else:\n",
    "                rows = get_parsed_rows_ucop(driver.page_source)\n",
    "            for row in rows:\n",
    "                writer.writerow(row)\n",
    "        except AssertionError as e:\n",
    "            print(f\"caught exception {e} in get_parsed_rows_ucop!\")\n",
    "            #no need to write row in this case\n",
    "#close f\n",
    "f.close()"
   ]
  },
  {
   "cell_type": "code",
   "execution_count": null,
   "metadata": {},
   "outputs": [],
   "source": [
    "# driver.find_element_by_id('wrapper').\\\n",
    "#        find_element_by_id('content').\\\n",
    "#         find_element_by_id('jqgh_Year').text"
   ]
  },
  {
   "cell_type": "code",
   "execution_count": null,
   "metadata": {},
   "outputs": [],
   "source": [
    "driver.quit()"
   ]
  },
  {
   "cell_type": "code",
   "execution_count": null,
   "metadata": {},
   "outputs": [],
   "source": []
  }
 ],
 "metadata": {
  "kernelspec": {
   "display_name": "Python 3",
   "language": "python",
   "name": "python3"
  },
  "language_info": {
   "codemirror_mode": {
    "name": "ipython",
    "version": 3
   },
   "file_extension": ".py",
   "mimetype": "text/x-python",
   "name": "python",
   "nbconvert_exporter": "python",
   "pygments_lexer": "ipython3",
   "version": "3.7.3"
  }
 },
 "nbformat": 4,
 "nbformat_minor": 2
}
