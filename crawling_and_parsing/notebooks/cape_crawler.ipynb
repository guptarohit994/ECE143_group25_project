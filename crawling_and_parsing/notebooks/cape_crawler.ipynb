{
 "cells": [
  {
   "cell_type": "code",
   "execution_count": 2,
   "metadata": {},
   "outputs": [],
   "source": [
    "from selenium.webdriver import Firefox\n",
    "from selenium.webdriver.firefox.options import Options\n",
    "from selenium.webdriver.support.ui import Select\n",
    "from selenium.webdriver.support.ui import WebDriverWait\n",
    "from selenium.webdriver.support import expected_conditions as EC\n",
    "from selenium.common.exceptions import TimeoutException\n",
    "from cape_webpage_parser import get_parsed_rows_cape\n",
    "from ucsd_triton_sso import initiate_sso_login\n",
    "import csv\n",
    "from sys import stdout\n",
    "from os import path"
   ]
  },
  {
   "cell_type": "code",
   "execution_count": 10,
   "metadata": {},
   "outputs": [
    {
     "name": "stdout",
     "output_type": "stream",
     "text": [
      "Headless Firefox Initialized\n"
     ]
    }
   ],
   "source": [
    "options = Options()\n",
    "options.headless = False\n",
    "driver = Firefox(options=options, executable_path=r'./../geckodriver')\n",
    "driver.get(\"http://cape.ucsd.edu/responses/Results.aspx\")\n",
    "print (\"Headless Firefox Initialized\")"
   ]
  },
  {
   "cell_type": "code",
   "execution_count": 11,
   "metadata": {},
   "outputs": [
    {
     "name": "stdout",
     "output_type": "stream",
     "text": [
      "====================== Initiating a SSO login ====================\n"
     ]
    }
   ],
   "source": [
    "initiate_sso_login(driver)"
   ]
  },
  {
   "cell_type": "code",
   "execution_count": 13,
   "metadata": {},
   "outputs": [],
   "source": [
    "driver.find_element_by_id('main-content').find_element_by_name('_eventId_proceed').click()"
   ]
  },
  {
   "cell_type": "code",
   "execution_count": 15,
   "metadata": {
    "scrolled": true
   },
   "outputs": [
    {
     "name": "stdout",
     "output_type": "stream",
     "text": [
      "Alert Accepted:\n",
      "The information you have entered on this page will be sent over an insecure connection and could be read by a third party.\n",
      "\n",
      "Are you sure you want to send this information?\n"
     ]
    }
   ],
   "source": [
    "# we expect a security warning   \n",
    "# try:\n",
    "WebDriverWait(driver, 120).until(EC.alert_is_present(),\n",
    "                               'Timed out waiting for a successful SSO login. Check credentials?')\n",
    "#Switch the control to the Alert window\n",
    "alert = driver.switch_to.alert\n",
    "\n",
    "#Retrieve the message on the Alert window\n",
    "msg = alert.text\n",
    "\n",
    "#use the accept() method to accept the alert\n",
    "alert.accept()\n",
    "print(f\"Alert Accepted:\\n{msg}\")\n",
    "\n",
    "# except NoAlertPresentException:\n",
    "#     raise \n",
    "\n",
    "# except TimeoutException:\n",
    "#     pass"
   ]
  },
  {
   "cell_type": "code",
   "execution_count": 16,
   "metadata": {},
   "outputs": [],
   "source": [
    "# wait for cape page to load after SSO\n",
    "try:\n",
    "    status = WebDriverWait(driver, 30, poll_frequency=0.5).until(lambda x: x.find_element_by_id('ctl00_ContentPlaceHolder1_ddlDepartments'))\n",
    "except:\n",
    "    assert False, 'Timed out waiting for SSO -> CAPE webpage loading'"
   ]
  },
  {
   "cell_type": "code",
   "execution_count": 17,
   "metadata": {},
   "outputs": [],
   "source": [
    "select_dept = Select(driver.find_element_by_id('ctl00_ContentPlaceHolder1_ddlDepartments'))\n",
    "departments = [o.text for o in select_dept.options if o.text != \"Select a Department\"]"
   ]
  },
  {
   "cell_type": "code",
   "execution_count": 7,
   "metadata": {},
   "outputs": [
    {
     "name": "stdout",
     "output_type": "stream",
     "text": [
      "Successfully parsed ANTH results(791 items)\n",
      "Successfully parsed BENG results(777 items)\n"
     ]
    }
   ],
   "source": [
    "# select departments one at a time and create their csv\n",
    "for dept in departments[:2]:\n",
    "    dept_keyword = dept.split()[0]\n",
    "    f = open(f\"./cape_{dept_keyword}_auto.csv\", 'w')\n",
    "    writer = csv.writer(f)\n",
    "\n",
    "    select_dept.select_by_visible_text(dept)\n",
    "    # click on submit button\n",
    "    driver.find_element_by_id('ctl00_ContentPlaceHolder1_btnSubmit').click()\n",
    "\n",
    "    # there's a small delay between click and this element getting displayed\n",
    "    # returns true\n",
    "    status = WebDriverWait(driver, 30, poll_frequency=0.5).\\\n",
    "                until(lambda x: x.find_element_by_id('ctl00_ContentPlaceHolder1_UpdateProgress1').is_displayed())\n",
    "\n",
    "    # shoud return false now\n",
    "    status = WebDriverWait(driver, 30, poll_frequency=0.5).\\\n",
    "                until_not(lambda x: x.find_element_by_id('ctl00_ContentPlaceHolder1_UpdateProgress1').is_displayed())\n",
    "    assert status == False, \"Page is still loading!\"\n",
    "\n",
    "    rows = get_parsed_rows_cape(driver.page_source)\n",
    "    if (len(rows) == 0):\n",
    "        print(f\"Didn't find any valid row for {dept_keyword}!\")\n",
    "    else:\n",
    "        for row in rows:\n",
    "            writer.writerow(row)\n",
    "        print(f\"Successfully parsed {dept_keyword} results({len(rows)} items)\")\n",
    "\n",
    "    f.close()"
   ]
  },
  {
   "cell_type": "code",
   "execution_count": 8,
   "metadata": {},
   "outputs": [],
   "source": [
    "driver.quit()"
   ]
  },
  {
   "cell_type": "code",
   "execution_count": 22,
   "metadata": {},
   "outputs": [
    {
     "data": {
      "text/plain": [
       "'   dog    '"
      ]
     },
     "execution_count": 22,
     "metadata": {},
     "output_type": "execute_result"
    }
   ],
   "source": [
    "'{s:{c}^{n}}'.format(s='dog',n=10,c=' ')"
   ]
  },
  {
   "cell_type": "code",
   "execution_count": 74,
   "metadata": {},
   "outputs": [
    {
     "data": {
      "text/plain": [
       "False"
      ]
     },
     "execution_count": 74,
     "metadata": {},
     "output_type": "execute_result"
    }
   ],
   "source": [
    "'ANTH' in ['ANTH sdfsdfsf']"
   ]
  },
  {
   "cell_type": "code",
   "execution_count": 75,
   "metadata": {},
   "outputs": [
    {
     "data": {
      "text/plain": [
       "0"
      ]
     },
     "execution_count": 75,
     "metadata": {},
     "output_type": "execute_result"
    }
   ],
   "source": [
    "['ANTH sdfsdfsf'].index('ANTH sdfsdfsf')"
   ]
  },
  {
   "cell_type": "code",
   "execution_count": null,
   "metadata": {},
   "outputs": [],
   "source": []
  }
 ],
 "metadata": {
  "kernelspec": {
   "display_name": "Python 3",
   "language": "python",
   "name": "python3"
  },
  "language_info": {
   "codemirror_mode": {
    "name": "ipython",
    "version": 3
   },
   "file_extension": ".py",
   "mimetype": "text/x-python",
   "name": "python",
   "nbconvert_exporter": "python",
   "pygments_lexer": "ipython3",
   "version": "3.7.3"
  }
 },
 "nbformat": 4,
 "nbformat_minor": 2
}
