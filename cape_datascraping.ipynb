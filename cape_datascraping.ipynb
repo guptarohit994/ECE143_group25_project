{
 "cells": [
  {
   "cell_type": "code",
   "execution_count": 1,
   "metadata": {},
   "outputs": [],
   "source": [
    "from bs4 import BeautifulSoup\n",
    "import csv"
   ]
  },
  {
   "cell_type": "code",
   "execution_count": 2,
   "metadata": {},
   "outputs": [],
   "source": [
    "# parse the html using beautiful soup and store in variable 'soup'\n",
    "soup = BeautifulSoup(open('./data/html/cape_ece.html', 'r'), 'html.parser')"
   ]
  },
  {
   "cell_type": "code",
   "execution_count": 3,
   "metadata": {},
   "outputs": [],
   "source": [
    "table = soup.find(id='ctl00_ContentPlaceHolder1_gvCAPEs')"
   ]
  },
  {
   "cell_type": "code",
   "execution_count": 5,
   "metadata": {},
   "outputs": [
    {
     "data": {
      "text/plain": [
       "109"
      ]
     },
     "execution_count": 5,
     "metadata": {},
     "output_type": "execute_result"
    }
   ],
   "source": [
    "# TODO skip if file already exists\n",
    "f = open('./data/csv/cape_ece.csv', 'w')\n",
    "writer = csv.writer(f)\n",
    "\n",
    "header = [i.get_text().replace(' ','') for i in table.find('thead').find_all('th')]\n",
    "writer.writerow(header)\n",
    "\n",
    "#TODO remove '/' ?\n",
    "\n",
    "# Instructor\n",
    "# Course\n",
    "# Term\n",
    "# Enroll\n",
    "# EvalsMade\n",
    "# RcmndClass\n",
    "# RcmndInstr\n",
    "# StudyHrs/wk\n",
    "# AvgGradeExpected\n",
    "# AvgGradeReceived"
   ]
  },
  {
   "cell_type": "code",
   "execution_count": 6,
   "metadata": {},
   "outputs": [],
   "source": [
    "#writer.writerow([i.get_text().replace(' ','') for i in table.find('thead').find_all('th')])"
   ]
  },
  {
   "cell_type": "code",
   "execution_count": 7,
   "metadata": {},
   "outputs": [],
   "source": [
    "for index,row in enumerate(table.find('tbody').find_all('tr')):\n",
    "    values = [i.get_text().replace('\"','').strip().replace(' ','') for i in row.find_all('td')]\n",
    "    assert len(header)==len(values), \"Unequal fields in header and this row\"\n",
    "    writer.writerow(values)"
   ]
  },
  {
   "cell_type": "code",
   "execution_count": 8,
   "metadata": {},
   "outputs": [],
   "source": [
    "f.close()"
   ]
  },
  {
   "cell_type": "code",
   "execution_count": null,
   "metadata": {},
   "outputs": [],
   "source": []
  }
 ],
 "metadata": {
  "kernelspec": {
   "display_name": "Python 3",
   "language": "python",
   "name": "python3"
  },
  "language_info": {
   "codemirror_mode": {
    "name": "ipython",
    "version": 3
   },
   "file_extension": ".py",
   "mimetype": "text/x-python",
   "name": "python",
   "nbconvert_exporter": "python",
   "pygments_lexer": "ipython3",
   "version": "3.7.3"
  }
 },
 "nbformat": 4,
 "nbformat_minor": 2
}
